{
 "cells": [
  {
   "cell_type": "markdown",
   "id": "bbf16ef1",
   "metadata": {
    "papermill": {
     "duration": 0.007309,
     "end_time": "2025-08-28T05:10:43.627352",
     "exception": false,
     "start_time": "2025-08-28T05:10:43.620043",
     "status": "completed"
    },
    "tags": []
   },
   "source": [
    "# Klasifikasi TEKS menggunakan RNN\n"
   ]
  },
  {
   "cell_type": "code",
   "execution_count": 1,
   "id": "ba2491ba",
   "metadata": {
    "_cell_guid": "b1076dfc-b9ad-4769-8c92-a6c4dae69d19",
    "_uuid": "8f2839f25d086af736a60e9eeb907d3b93b6e0e5",
    "execution": {
     "iopub.execute_input": "2025-08-28T05:10:43.640148Z",
     "iopub.status.busy": "2025-08-28T05:10:43.639863Z",
     "iopub.status.idle": "2025-08-28T05:11:00.780364Z",
     "shell.execute_reply": "2025-08-28T05:11:00.779474Z"
    },
    "papermill": {
     "duration": 17.1486,
     "end_time": "2025-08-28T05:11:00.781883",
     "exception": false,
     "start_time": "2025-08-28T05:10:43.633283",
     "status": "completed"
    },
    "tags": []
   },
   "outputs": [
    {
     "name": "stderr",
     "output_type": "stream",
     "text": [
      "2025-08-28 05:10:48.308978: E external/local_xla/xla/stream_executor/cuda/cuda_fft.cc:477] Unable to register cuFFT factory: Attempting to register factory for plugin cuFFT when one has already been registered\n",
      "WARNING: All log messages before absl::InitializeLog() is called are written to STDERR\n",
      "E0000 00:00:1756357848.508851      19 cuda_dnn.cc:8310] Unable to register cuDNN factory: Attempting to register factory for plugin cuDNN when one has already been registered\n",
      "E0000 00:00:1756357848.565616      19 cuda_blas.cc:1418] Unable to register cuBLAS factory: Attempting to register factory for plugin cuBLAS when one has already been registered\n",
      "[nltk_data] Downloading package stopwords to /usr/share/nltk_data...\n",
      "[nltk_data]   Package stopwords is already up-to-date!\n"
     ]
    }
   ],
   "source": [
    "import pandas as pd\n",
    "import numpy as np\n",
    "import matplotlib.pyplot as plt\n",
    "import seaborn as sns\n",
    "import re\n",
    "import os\n",
    "\n",
    "# TensorFlow and NLP tools\n",
    "import tensorflow as tf\n",
    "from tensorflow.keras.preprocessing.text import Tokenizer\n",
    "from tensorflow.keras.preprocessing.sequence import pad_sequences\n",
    "from tensorflow.keras.models import Sequential\n",
    "from sklearn.model_selection import train_test_split\n",
    "from sklearn.metrics import classification_report, confusion_matrix, accuracy_score\n",
    "from tensorflow.keras.layers import (\n",
    "Embedding, LSTM, Dense, Activation, Bidirectional, Dropout, GRU, \n",
    "SimpleRNN, BatchNormalization, AlphaDropout, LayerNormalization)\n",
    "\n",
    "from tensorflow.keras.optimizers import Adam\n",
    "\n",
    "import nltk\n",
    "nltk.download('stopwords')\n",
    "from nltk.corpus import stopwords\n",
    "STOPWORDS = set(stopwords.words('english'))"
   ]
  },
  {
   "cell_type": "markdown",
   "id": "15ae1905",
   "metadata": {
    "papermill": {
     "duration": 0.005572,
     "end_time": "2025-08-28T05:11:00.793804",
     "exception": false,
     "start_time": "2025-08-28T05:11:00.788232",
     "status": "completed"
    },
    "tags": []
   },
   "source": [
    "## 1. Data Preprocessing\n"
   ]
  },
  {
   "cell_type": "code",
   "execution_count": 2,
   "id": "ece41b7c",
   "metadata": {
    "execution": {
     "iopub.execute_input": "2025-08-28T05:11:00.807265Z",
     "iopub.status.busy": "2025-08-28T05:11:00.806602Z",
     "iopub.status.idle": "2025-08-28T05:11:00.868567Z",
     "shell.execute_reply": "2025-08-28T05:11:00.867920Z"
    },
    "papermill": {
     "duration": 0.069938,
     "end_time": "2025-08-28T05:11:00.870038",
     "exception": false,
     "start_time": "2025-08-28T05:11:00.800100",
     "status": "completed"
    },
    "tags": []
   },
   "outputs": [],
   "source": [
    "df = pd.read_csv('/kaggle/input/dataset-klasifikasi-teks-dengan-rnn/transformer.csv')"
   ]
  },
  {
   "cell_type": "code",
   "execution_count": 3,
   "id": "8517c53c",
   "metadata": {
    "execution": {
     "iopub.execute_input": "2025-08-28T05:11:00.883147Z",
     "iopub.status.busy": "2025-08-28T05:11:00.882873Z",
     "iopub.status.idle": "2025-08-28T05:11:00.906188Z",
     "shell.execute_reply": "2025-08-28T05:11:00.905529Z"
    },
    "papermill": {
     "duration": 0.031003,
     "end_time": "2025-08-28T05:11:00.907267",
     "exception": false,
     "start_time": "2025-08-28T05:11:00.876264",
     "status": "completed"
    },
    "tags": []
   },
   "outputs": [
    {
     "data": {
      "text/html": [
       "<div>\n",
       "<style scoped>\n",
       "    .dataframe tbody tr th:only-of-type {\n",
       "        vertical-align: middle;\n",
       "    }\n",
       "\n",
       "    .dataframe tbody tr th {\n",
       "        vertical-align: top;\n",
       "    }\n",
       "\n",
       "    .dataframe thead th {\n",
       "        text-align: right;\n",
       "    }\n",
       "</style>\n",
       "<table border=\"1\" class=\"dataframe\">\n",
       "  <thead>\n",
       "    <tr style=\"text-align: right;\">\n",
       "      <th></th>\n",
       "      <th>data</th>\n",
       "      <th>labels</th>\n",
       "    </tr>\n",
       "  </thead>\n",
       "  <tbody>\n",
       "    <tr>\n",
       "      <th>0</th>\n",
       "      <td>Fuming Robinson blasts officials  England coac...</td>\n",
       "      <td>sport</td>\n",
       "    </tr>\n",
       "    <tr>\n",
       "      <th>1</th>\n",
       "      <td>Veteran Martinez wins Thai title  Conchita Mar...</td>\n",
       "      <td>sport</td>\n",
       "    </tr>\n",
       "    <tr>\n",
       "      <th>2</th>\n",
       "      <td>Spurs to sign Iceland U21 star  Tottenham are ...</td>\n",
       "      <td>sport</td>\n",
       "    </tr>\n",
       "    <tr>\n",
       "      <th>3</th>\n",
       "      <td>Mexicans tracking unhappy Juninho  Mexican out...</td>\n",
       "      <td>sport</td>\n",
       "    </tr>\n",
       "    <tr>\n",
       "      <th>4</th>\n",
       "      <td>Mirza makes Indian tennis history  Teenager Sa...</td>\n",
       "      <td>sport</td>\n",
       "    </tr>\n",
       "    <tr>\n",
       "      <th>...</th>\n",
       "      <td>...</td>\n",
       "      <td>...</td>\n",
       "    </tr>\n",
       "    <tr>\n",
       "      <th>923</th>\n",
       "      <td>Howard backs stem cell research  Michael Howar...</td>\n",
       "      <td>politics</td>\n",
       "    </tr>\n",
       "    <tr>\n",
       "      <th>924</th>\n",
       "      <td>Blair dismisses quit claim report  Tony Blair ...</td>\n",
       "      <td>politics</td>\n",
       "    </tr>\n",
       "    <tr>\n",
       "      <th>925</th>\n",
       "      <td>Kennedy to make temple address  Charles Kenned...</td>\n",
       "      <td>politics</td>\n",
       "    </tr>\n",
       "    <tr>\n",
       "      <th>926</th>\n",
       "      <td>Terror powers expose tyranny  The Lord Chancel...</td>\n",
       "      <td>politics</td>\n",
       "    </tr>\n",
       "    <tr>\n",
       "      <th>927</th>\n",
       "      <td>Kennedys cautious optimism  Charles Kennedy is...</td>\n",
       "      <td>politics</td>\n",
       "    </tr>\n",
       "  </tbody>\n",
       "</table>\n",
       "<p>928 rows × 2 columns</p>\n",
       "</div>"
      ],
      "text/plain": [
       "                                                  data    labels\n",
       "0    Fuming Robinson blasts officials  England coac...     sport\n",
       "1    Veteran Martinez wins Thai title  Conchita Mar...     sport\n",
       "2    Spurs to sign Iceland U21 star  Tottenham are ...     sport\n",
       "3    Mexicans tracking unhappy Juninho  Mexican out...     sport\n",
       "4    Mirza makes Indian tennis history  Teenager Sa...     sport\n",
       "..                                                 ...       ...\n",
       "923  Howard backs stem cell research  Michael Howar...  politics\n",
       "924  Blair dismisses quit claim report  Tony Blair ...  politics\n",
       "925  Kennedy to make temple address  Charles Kenned...  politics\n",
       "926  Terror powers expose tyranny  The Lord Chancel...  politics\n",
       "927  Kennedys cautious optimism  Charles Kennedy is...  politics\n",
       "\n",
       "[928 rows x 2 columns]"
      ]
     },
     "execution_count": 3,
     "metadata": {},
     "output_type": "execute_result"
    }
   ],
   "source": [
    "df"
   ]
  },
  {
   "cell_type": "code",
   "execution_count": 4,
   "id": "9395c40a",
   "metadata": {
    "execution": {
     "iopub.execute_input": "2025-08-28T05:11:00.920144Z",
     "iopub.status.busy": "2025-08-28T05:11:00.919923Z",
     "iopub.status.idle": "2025-08-28T05:11:00.928813Z",
     "shell.execute_reply": "2025-08-28T05:11:00.928095Z"
    },
    "papermill": {
     "duration": 0.016578,
     "end_time": "2025-08-28T05:11:00.930002",
     "exception": false,
     "start_time": "2025-08-28T05:11:00.913424",
     "status": "completed"
    },
    "tags": []
   },
   "outputs": [
    {
     "data": {
      "text/plain": [
       "labels\n",
       "sport       511\n",
       "politics    417\n",
       "Name: count, dtype: int64"
      ]
     },
     "execution_count": 4,
     "metadata": {},
     "output_type": "execute_result"
    }
   ],
   "source": [
    "df['labels'].value_counts()"
   ]
  },
  {
   "cell_type": "code",
   "execution_count": 5,
   "id": "d4e626a1",
   "metadata": {
    "execution": {
     "iopub.execute_input": "2025-08-28T05:11:00.943650Z",
     "iopub.status.busy": "2025-08-28T05:11:00.943445Z",
     "iopub.status.idle": "2025-08-28T05:11:01.456957Z",
     "shell.execute_reply": "2025-08-28T05:11:01.456148Z"
    },
    "papermill": {
     "duration": 0.521651,
     "end_time": "2025-08-28T05:11:01.458281",
     "exception": false,
     "start_time": "2025-08-28T05:11:00.936630",
     "status": "completed"
    },
    "tags": []
   },
   "outputs": [
    {
     "data": {
      "image/png": "[encoded data removed]",
      "text/plain": [
       "<Figure size 640x480 with 1 Axes>"
      ]
     },
     "metadata": {},
     "output_type": "display_data"
    }
   ],
   "source": [
    "df['labels'].value_counts().plot.pie(autopct='%1.1f%%', startangle=90)\n",
    "plt.title('Label Distribution')\n",
    "plt.ylabel('')\n",
    "plt.show()"
   ]
  },
  {
   "cell_type": "code",
   "execution_count": 6,
   "id": "b85aab4c",
   "metadata": {
    "execution": {
     "iopub.execute_input": "2025-08-28T05:11:01.471830Z",
     "iopub.status.busy": "2025-08-28T05:11:01.471562Z",
     "iopub.status.idle": "2025-08-28T05:11:01.477871Z",
     "shell.execute_reply": "2025-08-28T05:11:01.477134Z"
    },
    "papermill": {
     "duration": 0.014305,
     "end_time": "2025-08-28T05:11:01.478973",
     "exception": false,
     "start_time": "2025-08-28T05:11:01.464668",
     "status": "completed"
    },
    "tags": []
   },
   "outputs": [
    {
     "data": {
      "text/plain": [
       "data      0\n",
       "labels    0\n",
       "dtype: int64"
      ]
     },
     "execution_count": 6,
     "metadata": {},
     "output_type": "execute_result"
    }
   ],
   "source": [
    "df.isna().sum()"
   ]
  },
  {
   "cell_type": "markdown",
   "id": "08517036",
   "metadata": {
    "papermill": {
     "duration": 0.006094,
     "end_time": "2025-08-28T05:11:01.491477",
     "exception": false,
     "start_time": "2025-08-28T05:11:01.485383",
     "status": "completed"
    },
    "tags": []
   },
   "source": [
    "## 2. Configuration Parameters"
   ]
  },
  {
   "cell_type": "code",
   "execution_count": 7,
   "id": "af87d64d",
   "metadata": {
    "execution": {
     "iopub.execute_input": "2025-08-28T05:11:01.505299Z",
     "iopub.status.busy": "2025-08-28T05:11:01.505029Z",
     "iopub.status.idle": "2025-08-28T05:11:01.508571Z",
     "shell.execute_reply": "2025-08-28T05:11:01.508023Z"
    },
    "papermill": {
     "duration": 0.011698,
     "end_time": "2025-08-28T05:11:01.509637",
     "exception": false,
     "start_time": "2025-08-28T05:11:01.497939",
     "status": "completed"
    },
    "tags": []
   },
   "outputs": [],
   "source": [
    "vocab_size = 5000        # Maximum number of words to keep in vocabulary\n",
    "embedding_dim = 64       # Dimension of word embedding vectors\n",
    "max_length = 200        # Maximum sequence length (padding/truncating)\n",
    "oov_tok = '<OOV>'       # Token for out-of-vocabulary words"
   ]
  },
  {
   "cell_type": "code",
   "execution_count": 8,
   "id": "5b78b3d9",
   "metadata": {
    "execution": {
     "iopub.execute_input": "2025-08-28T05:11:01.523238Z",
     "iopub.status.busy": "2025-08-28T05:11:01.523031Z",
     "iopub.status.idle": "2025-08-28T05:11:01.526942Z",
     "shell.execute_reply": "2025-08-28T05:11:01.526224Z"
    },
    "papermill": {
     "duration": 0.011853,
     "end_time": "2025-08-28T05:11:01.528126",
     "exception": false,
     "start_time": "2025-08-28T05:11:01.516273",
     "status": "completed"
    },
    "tags": []
   },
   "outputs": [],
   "source": [
    "labels = df['labels'].tolist()\n",
    "data = df['data'].tolist()"
   ]
  },
  {
   "cell_type": "code",
   "execution_count": 9,
   "id": "a2f54b34",
   "metadata": {
    "execution": {
     "iopub.execute_input": "2025-08-28T05:11:01.542115Z",
     "iopub.status.busy": "2025-08-28T05:11:01.541886Z",
     "iopub.status.idle": "2025-08-28T05:11:01.546688Z",
     "shell.execute_reply": "2025-08-28T05:11:01.545977Z"
    },
    "papermill": {
     "duration": 0.013245,
     "end_time": "2025-08-28T05:11:01.547898",
     "exception": false,
     "start_time": "2025-08-28T05:11:01.534653",
     "status": "completed"
    },
    "tags": []
   },
   "outputs": [
    {
     "name": "stdout",
     "output_type": "stream",
     "text": [
      "Number of samples: 928\n",
      "Number of texts: 928\n",
      "\n",
      "Unique labels: {'sport', 'politics'}\n",
      "\n",
      "First label: sport\n",
      "First text (truncated): Fuming Robinson blasts officials  England coach Andy Robinson insisted he was \"livid\" after his side were denied two tries in Sundays 19-13 Six Nations loss to Ireland in Dublin.  Mark Cuetos first-ha...\n"
     ]
    }
   ],
   "source": [
    "# Verify the extraction\n",
    "print(f\"Number of samples: {len(labels)}\")\n",
    "print(f\"Number of texts: {len(data)}\")\n",
    "print(f\"\\nUnique labels: {set(labels)}\")\n",
    "print(f\"\\nFirst label: {labels[0]}\")\n",
    "print(f\"First text (truncated): {data[0][:200]}...\")"
   ]
  },
  {
   "cell_type": "markdown",
   "id": "ef74a142",
   "metadata": {
    "papermill": {
     "duration": 0.006314,
     "end_time": "2025-08-28T05:11:01.560743",
     "exception": false,
     "start_time": "2025-08-28T05:11:01.554429",
     "status": "completed"
    },
    "tags": []
   },
   "source": [
    "## 3. Data Splitting"
   ]
  },
  {
   "cell_type": "code",
   "execution_count": 10,
   "id": "69c05a6a",
   "metadata": {
    "execution": {
     "iopub.execute_input": "2025-08-28T05:11:01.574186Z",
     "iopub.status.busy": "2025-08-28T05:11:01.573945Z",
     "iopub.status.idle": "2025-08-28T05:11:01.580515Z",
     "shell.execute_reply": "2025-08-28T05:11:01.579935Z"
    },
    "papermill": {
     "duration": 0.014674,
     "end_time": "2025-08-28T05:11:01.581764",
     "exception": false,
     "start_time": "2025-08-28T05:11:01.567090",
     "status": "completed"
    },
    "tags": []
   },
   "outputs": [],
   "source": [
    "# Optional: Shuffle before splitting for better distribution\n",
    "from sklearn.model_selection import train_test_split\n",
    "\n",
    "train_data, validation_data, train_labels, validation_labels = train_test_split(\n",
    "    data, labels, \n",
    "    test_size=0.2,\n",
    "    random_state=42,  # For reproducibility\n",
    "    stratify=labels  # Ensures equal distribution of labels in both sets\n",
    ")"
   ]
  },
  {
   "cell_type": "markdown",
   "id": "76300844",
   "metadata": {
    "papermill": {
     "duration": 0.006539,
     "end_time": "2025-08-28T05:11:01.597480",
     "exception": false,
     "start_time": "2025-08-28T05:11:01.590941",
     "status": "completed"
    },
    "tags": []
   },
   "source": [
    "## 4. Text Tokenization"
   ]
  },
  {
   "cell_type": "code",
   "execution_count": 11,
   "id": "3341bb45",
   "metadata": {
    "execution": {
     "iopub.execute_input": "2025-08-28T05:11:01.611449Z",
     "iopub.status.busy": "2025-08-28T05:11:01.610926Z",
     "iopub.status.idle": "2025-08-28T05:11:01.762535Z",
     "shell.execute_reply": "2025-08-28T05:11:01.761539Z"
    },
    "papermill": {
     "duration": 0.160069,
     "end_time": "2025-08-28T05:11:01.763857",
     "exception": false,
     "start_time": "2025-08-28T05:11:01.603788",
     "status": "completed"
    },
    "tags": []
   },
   "outputs": [
    {
     "name": "stdout",
     "output_type": "stream",
     "text": [
      "Total unique words found: 15744\n"
     ]
    }
   ],
   "source": [
    "# Initialize token with vocabulary limit and OOV token\n",
    "tokenizer = Tokenizer(num_words=vocab_size, oov_token=oov_tok)\n",
    "\n",
    "# Fit\n",
    "tokenizer.fit_on_texts(train_data)\n",
    "\n",
    "word_index = tokenizer.word_index\n",
    "\n",
    "print(f\"Total unique words found: {len(word_index)}\")"
   ]
  },
  {
   "cell_type": "code",
   "execution_count": 12,
   "id": "d0ddd2ca",
   "metadata": {
    "execution": {
     "iopub.execute_input": "2025-08-28T05:11:01.778636Z",
     "iopub.status.busy": "2025-08-28T05:11:01.778398Z",
     "iopub.status.idle": "2025-08-28T05:11:01.892545Z",
     "shell.execute_reply": "2025-08-28T05:11:01.891757Z"
    },
    "papermill": {
     "duration": 0.122992,
     "end_time": "2025-08-28T05:11:01.893911",
     "exception": false,
     "start_time": "2025-08-28T05:11:01.770919",
     "status": "completed"
    },
    "tags": []
   },
   "outputs": [
    {
     "name": "stdout",
     "output_type": "stream",
     "text": [
      "Training padded shape: (742, 200)\n",
      "Validation padded shape: (186, 200)\n"
     ]
    }
   ],
   "source": [
    "# Convert texts to sequences\n",
    "train_sequences = tokenizer.texts_to_sequences(train_data)\n",
    "validation_sequences = tokenizer.texts_to_sequences(validation_data)\n",
    "\n",
    "\n",
    "train_padded = pad_sequences(train_sequences, \n",
    "                            maxlen=max_length, \n",
    "                            padding='post',\n",
    "                            truncating='post')\n",
    "\n",
    "validation_padded = pad_sequences(validation_sequences, \n",
    "                                 maxlen=max_length,\n",
    "                                 padding='post',\n",
    "                                 truncating='post')\n",
    "\n",
    "# Check shapes\n",
    "print(f\"Training padded shape: {train_padded.shape}\")\n",
    "print(f\"Validation padded shape: {validation_padded.shape}\")"
   ]
  },
  {
   "cell_type": "markdown",
   "id": "e137d73d",
   "metadata": {
    "papermill": {
     "duration": 0.006446,
     "end_time": "2025-08-28T05:11:01.907330",
     "exception": false,
     "start_time": "2025-08-28T05:11:01.900884",
     "status": "completed"
    },
    "tags": []
   },
   "source": [
    "## 5. Label Encoding"
   ]
  },
  {
   "cell_type": "code",
   "execution_count": 13,
   "id": "51c18615",
   "metadata": {
    "execution": {
     "iopub.execute_input": "2025-08-28T05:11:01.921243Z",
     "iopub.status.busy": "2025-08-28T05:11:01.920963Z",
     "iopub.status.idle": "2025-08-28T05:11:01.926271Z",
     "shell.execute_reply": "2025-08-28T05:11:01.925481Z"
    },
    "papermill": {
     "duration": 0.013854,
     "end_time": "2025-08-28T05:11:01.927484",
     "exception": false,
     "start_time": "2025-08-28T05:11:01.913630",
     "status": "completed"
    },
    "tags": []
   },
   "outputs": [],
   "source": [
    "from sklearn.preprocessing import LabelEncoder\n",
    "label_encoder = LabelEncoder()\n",
    "\n",
    "training_label_seq = label_encoder.fit_transform(train_labels)\n",
    "validation_label_seq = label_encoder.fit_transform(validation_labels)"
   ]
  },
  {
   "cell_type": "markdown",
   "id": "10376f76",
   "metadata": {
    "papermill": {
     "duration": 0.006272,
     "end_time": "2025-08-28T05:11:01.940162",
     "exception": false,
     "start_time": "2025-08-28T05:11:01.933890",
     "status": "completed"
    },
    "tags": []
   },
   "source": [
    "## 6. Model Architectures"
   ]
  },
  {
   "cell_type": "markdown",
   "id": "73a6dec8",
   "metadata": {
    "papermill": {
     "duration": 0.061292,
     "end_time": "2025-08-28T05:11:02.007945",
     "exception": false,
     "start_time": "2025-08-28T05:11:01.946653",
     "status": "completed"
    },
    "tags": []
   },
   "source": [
    "### 1. LSTM Model"
   ]
  },
  {
   "cell_type": "code",
   "execution_count": 14,
   "id": "d7f691aa",
   "metadata": {
    "execution": {
     "iopub.execute_input": "2025-08-28T05:11:02.022434Z",
     "iopub.status.busy": "2025-08-28T05:11:02.021569Z",
     "iopub.status.idle": "2025-08-28T05:11:02.889269Z",
     "shell.execute_reply": "2025-08-28T05:11:02.888338Z"
    },
    "papermill": {
     "duration": 0.876177,
     "end_time": "2025-08-28T05:11:02.890658",
     "exception": false,
     "start_time": "2025-08-28T05:11:02.014481",
     "status": "completed"
    },
    "tags": []
   },
   "outputs": [
    {
     "name": "stderr",
     "output_type": "stream",
     "text": [
      "/usr/local/lib/python3.11/dist-packages/keras/src/layers/core/embedding.py:90: UserWarning: Argument `input_length` is deprecated. Just remove it.\n",
      "  warnings.warn(\n",
      "I0000 00:00:1756357862.814080      19 gpu_device.cc:2022] Created device /job:localhost/replica:0/task:0/device:GPU:0 with 15513 MB memory:  -> device: 0, name: Tesla P100-PCIE-16GB, pci bus id: 0000:00:04.0, compute capability: 6.0\n"
     ]
    }
   ],
   "source": [
    "model = Sequential([\n",
    "    # Embedding layer\n",
    "    Embedding(input_dim=vocab_size, \n",
    "              output_dim=embedding_dim, \n",
    "              input_length=max_length),\n",
    "    \n",
    "    Bidirectional(LSTM(64, return_sequences=True)),\n",
    "    Dropout(0.4),\n",
    "    \n",
    "    Bidirectional(LSTM(32)),\n",
    "    Dropout(0.3),\n",
    "    \n",
    "    Dense(64, activation='relu'),\n",
    "    BatchNormalization(),\n",
    "    Dropout(0.4),\n",
    "    \n",
    "    # Dense(64, activation='selu', kernel_initializer='lecun_normal'),\n",
    "    # AlphaDropout(0.1),\n",
    "    \n",
    "    Dense(5, activation='softmax')\n",
    "])"
   ]
  },
  {
   "cell_type": "code",
   "execution_count": 15,
   "id": "670ab8b2",
   "metadata": {
    "execution": {
     "iopub.execute_input": "2025-08-28T05:11:02.906113Z",
     "iopub.status.busy": "2025-08-28T05:11:02.905843Z",
     "iopub.status.idle": "2025-08-28T05:11:02.925384Z",
     "shell.execute_reply": "2025-08-28T05:11:02.924739Z"
    },
    "papermill": {
     "duration": 0.028476,
     "end_time": "2025-08-28T05:11:02.926657",
     "exception": false,
     "start_time": "2025-08-28T05:11:02.898181",
     "status": "completed"
    },
    "tags": []
   },
   "outputs": [],
   "source": [
    "model.compile(\n",
    "    optimizer=Adam(learning_rate=0.0005),\n",
    "    loss='sparse_categorical_crossentropy',\n",
    "    metrics=['accuracy']\n",
    ")"
   ]
  },
  {
   "cell_type": "code",
   "execution_count": 16,
   "id": "35790540",
   "metadata": {
    "execution": {
     "iopub.execute_input": "2025-08-28T05:11:02.942375Z",
     "iopub.status.busy": "2025-08-28T05:11:02.942112Z",
     "iopub.status.idle": "2025-08-28T05:11:02.957547Z",
     "shell.execute_reply": "2025-08-28T05:11:02.956907Z"
    },
    "papermill": {
     "duration": 0.024634,
     "end_time": "2025-08-28T05:11:02.958653",
     "exception": false,
     "start_time": "2025-08-28T05:11:02.934019",
     "status": "completed"
    },
    "tags": []
   },
   "outputs": [
    {
     "data": {
      "text/html": [
       "<pre style=\"white-space:pre;overflow-x:auto;line-height:normal;font-family:Menlo,'DejaVu Sans Mono',consolas,'Courier New',monospace\"><span style=\"font-weight: bold\">Model: \"sequential\"</span>\n",
       "</pre>\n"
      ],
      "text/plain": [
       "\u001b[1mModel: \"sequential\"\u001b[0m\n"
      ]
     },
     "metadata": {},
     "output_type": "display_data"
    },
    {
     "data": {
      "text/html": [
       "<pre style=\"white-space:pre;overflow-x:auto;line-height:normal;font-family:Menlo,'DejaVu Sans Mono',consolas,'Courier New',monospace\">┏━━━━━━━━━━━━━━━━━━━━━━━━━━━━━━━━━┳━━━━━━━━━━━━━━━━━━━━━━━━┳━━━━━━━━━━━━━━━┓\n",
       "┃<span style=\"font-weight: bold\"> Layer (type)                    </span>┃<span style=\"font-weight: bold\"> Output Shape           </span>┃<span style=\"font-weight: bold\">       Param # </span>┃\n",
       "┡━━━━━━━━━━━━━━━━━━━━━━━━━━━━━━━━━╇━━━━━━━━━━━━━━━━━━━━━━━━╇━━━━━━━━━━━━━━━┩\n",
       "│ embedding (<span style=\"color: #0087ff; text-decoration-color: #0087ff\">Embedding</span>)           │ ?                      │   <span style=\"color: #00af00; text-decoration-color: #00af00\">0</span> (unbuilt) │\n",
       "├─────────────────────────────────┼────────────────────────┼───────────────┤\n",
       "│ bidirectional (<span style=\"color: #0087ff; text-decoration-color: #0087ff\">Bidirectional</span>)   │ ?                      │   <span style=\"color: #00af00; text-decoration-color: #00af00\">0</span> (unbuilt) │\n",
       "├─────────────────────────────────┼────────────────────────┼───────────────┤\n",
       "│ dropout (<span style=\"color: #0087ff; text-decoration-color: #0087ff\">Dropout</span>)               │ ?                      │             <span style=\"color: #00af00; text-decoration-color: #00af00\">0</span> │\n",
       "├─────────────────────────────────┼────────────────────────┼───────────────┤\n",
       "│ bidirectional_1 (<span style=\"color: #0087ff; text-decoration-color: #0087ff\">Bidirectional</span>) │ ?                      │   <span style=\"color: #00af00; text-decoration-color: #00af00\">0</span> (unbuilt) │\n",
       "├─────────────────────────────────┼────────────────────────┼───────────────┤\n",
       "│ dropout_1 (<span style=\"color: #0087ff; text-decoration-color: #0087ff\">Dropout</span>)             │ ?                      │             <span style=\"color: #00af00; text-decoration-color: #00af00\">0</span> │\n",
       "├─────────────────────────────────┼────────────────────────┼───────────────┤\n",
       "│ dense (<span style=\"color: #0087ff; text-decoration-color: #0087ff\">Dense</span>)                   │ ?                      │   <span style=\"color: #00af00; text-decoration-color: #00af00\">0</span> (unbuilt) │\n",
       "├─────────────────────────────────┼────────────────────────┼───────────────┤\n",
       "│ batch_normalization             │ ?                      │   <span style=\"color: #00af00; text-decoration-color: #00af00\">0</span> (unbuilt) │\n",
       "│ (<span style=\"color: #0087ff; text-decoration-color: #0087ff\">BatchNormalization</span>)            │                        │               │\n",
       "├─────────────────────────────────┼────────────────────────┼───────────────┤\n",
       "│ dropout_2 (<span style=\"color: #0087ff; text-decoration-color: #0087ff\">Dropout</span>)             │ ?                      │             <span style=\"color: #00af00; text-decoration-color: #00af00\">0</span> │\n",
       "├─────────────────────────────────┼────────────────────────┼───────────────┤\n",
       "│ dense_1 (<span style=\"color: #0087ff; text-decoration-color: #0087ff\">Dense</span>)                 │ ?                      │   <span style=\"color: #00af00; text-decoration-color: #00af00\">0</span> (unbuilt) │\n",
       "└─────────────────────────────────┴────────────────────────┴───────────────┘\n",
       "</pre>\n"
      ],
      "text/plain": [
       "┏━━━━━━━━━━━━━━━━━━━━━━━━━━━━━━━━━┳━━━━━━━━━━━━━━━━━━━━━━━━┳━━━━━━━━━━━━━━━┓\n",
       "┃\u001b[1m \u001b[0m\u001b[1mLayer (type)                   \u001b[0m\u001b[1m \u001b[0m┃\u001b[1m \u001b[0m\u001b[1mOutput Shape          \u001b[0m\u001b[1m \u001b[0m┃\u001b[1m \u001b[0m\u001b[1m      Param #\u001b[0m\u001b[1m \u001b[0m┃\n",
       "┡━━━━━━━━━━━━━━━━━━━━━━━━━━━━━━━━━╇━━━━━━━━━━━━━━━━━━━━━━━━╇━━━━━━━━━━━━━━━┩\n",
       "│ embedding (\u001b[38;5;33mEmbedding\u001b[0m)           │ ?                      │   \u001b[38;5;34m0\u001b[0m (unbuilt) │\n",
       "├─────────────────────────────────┼────────────────────────┼───────────────┤\n",
       "│ bidirectional (\u001b[38;5;33mBidirectional\u001b[0m)   │ ?                      │   \u001b[38;5;34m0\u001b[0m (unbuilt) │\n",
       "├─────────────────────────────────┼────────────────────────┼───────────────┤\n",
       "│ dropout (\u001b[38;5;33mDropout\u001b[0m)               │ ?                      │             \u001b[38;5;34m0\u001b[0m │\n",
       "├─────────────────────────────────┼────────────────────────┼───────────────┤\n",
       "│ bidirectional_1 (\u001b[38;5;33mBidirectional\u001b[0m) │ ?                      │   \u001b[38;5;34m0\u001b[0m (unbuilt) │\n",
       "├─────────────────────────────────┼────────────────────────┼───────────────┤\n",
       "│ dropout_1 (\u001b[38;5;33mDropout\u001b[0m)             │ ?                      │             \u001b[38;5;34m0\u001b[0m │\n",
       "├─────────────────────────────────┼────────────────────────┼───────────────┤\n",
       "│ dense (\u001b[38;5;33mDense\u001b[0m)                   │ ?                      │   \u001b[38;5;34m0\u001b[0m (unbuilt) │\n",
       "├─────────────────────────────────┼────────────────────────┼───────────────┤\n",
       "│ batch_normalization             │ ?                      │   \u001b[38;5;34m0\u001b[0m (unbuilt) │\n",
       "│ (\u001b[38;5;33mBatchNormalization\u001b[0m)            │                        │               │\n",
       "├─────────────────────────────────┼────────────────────────┼───────────────┤\n",
       "│ dropout_2 (\u001b[38;5;33mDropout\u001b[0m)             │ ?                      │             \u001b[38;5;34m0\u001b[0m │\n",
       "├─────────────────────────────────┼────────────────────────┼───────────────┤\n",
       "│ dense_1 (\u001b[38;5;33mDense\u001b[0m)                 │ ?                      │   \u001b[38;5;34m0\u001b[0m (unbuilt) │\n",
       "└─────────────────────────────────┴────────────────────────┴───────────────┘\n"
      ]
     },
     "metadata": {},
     "output_type": "display_data"
    },
    {
     "data": {
      "text/html": [
       "<pre style=\"white-space:pre;overflow-x:auto;line-height:normal;font-family:Menlo,'DejaVu Sans Mono',consolas,'Courier New',monospace\"><span style=\"font-weight: bold\"> Total params: </span><span style=\"color: #00af00; text-decoration-color: #00af00\">0</span> (0.00 B)\n",
       "</pre>\n"
      ],
      "text/plain": [
       "\u001b[1m Total params: \u001b[0m\u001b[38;5;34m0\u001b[0m (0.00 B)\n"
      ]
     },
     "metadata": {},
     "output_type": "display_data"
    },
    {
     "data": {
      "text/html": [
       "<pre style=\"white-space:pre;overflow-x:auto;line-height:normal;font-family:Menlo,'DejaVu Sans Mono',consolas,'Courier New',monospace\"><span style=\"font-weight: bold\"> Trainable params: </span><span style=\"color: #00af00; text-decoration-color: #00af00\">0</span> (0.00 B)\n",
       "</pre>\n"
      ],
      "text/plain": [
       "\u001b[1m Trainable params: \u001b[0m\u001b[38;5;34m0\u001b[0m (0.00 B)\n"
      ]
     },
     "metadata": {},
     "output_type": "display_data"
    },
    {
     "data": {
      "text/html": [
       "<pre style=\"white-space:pre;overflow-x:auto;line-height:normal;font-family:Menlo,'DejaVu Sans Mono',consolas,'Courier New',monospace\"><span style=\"font-weight: bold\"> Non-trainable params: </span><span style=\"color: #00af00; text-decoration-color: #00af00\">0</span> (0.00 B)\n",
       "</pre>\n"
      ],
      "text/plain": [
       "\u001b[1m Non-trainable params: \u001b[0m\u001b[38;5;34m0\u001b[0m (0.00 B)\n"
      ]
     },
     "metadata": {},
     "output_type": "display_data"
    }
   ],
   "source": [
    "\n",
    "model.summary()"
   ]
  },
  {
   "cell_type": "markdown",
   "id": "bc63cc1f",
   "metadata": {
    "papermill": {
     "duration": 0.007231,
     "end_time": "2025-08-28T05:11:02.973561",
     "exception": false,
     "start_time": "2025-08-28T05:11:02.966330",
     "status": "completed"
    },
    "tags": []
   },
   "source": [
    "### Model Training"
   ]
  },
  {
   "cell_type": "code",
   "execution_count": 17,
   "id": "8eeabaeb",
   "metadata": {
    "execution": {
     "iopub.execute_input": "2025-08-28T05:11:02.989212Z",
     "iopub.status.busy": "2025-08-28T05:11:02.988958Z",
     "iopub.status.idle": "2025-08-28T05:11:37.381431Z",
     "shell.execute_reply": "2025-08-28T05:11:37.380666Z"
    },
    "papermill": {
     "duration": 34.402479,
     "end_time": "2025-08-28T05:11:37.383139",
     "exception": false,
     "start_time": "2025-08-28T05:11:02.980660",
     "status": "completed"
    },
    "tags": []
   },
   "outputs": [
    {
     "name": "stdout",
     "output_type": "stream",
     "text": [
      "Epoch 1/20\n"
     ]
    },
    {
     "name": "stderr",
     "output_type": "stream",
     "text": [
      "I0000 00:00:1756357872.366979      58 cuda_dnn.cc:529] Loaded cuDNN version 90300\n"
     ]
    },
    {
     "name": "stdout",
     "output_type": "stream",
     "text": [
      "\u001b[1m24/24\u001b[0m \u001b[32m━━━━━━━━━━━━━━━━━━━━\u001b[0m\u001b[37m\u001b[0m \u001b[1m13s\u001b[0m 95ms/step - accuracy: 0.2832 - loss: 1.5904 - val_accuracy: 0.5484 - val_loss: 1.5370\n",
      "Epoch 2/20\n",
      "\u001b[1m24/24\u001b[0m \u001b[32m━━━━━━━━━━━━━━━━━━━━\u001b[0m\u001b[37m\u001b[0m \u001b[1m1s\u001b[0m 45ms/step - accuracy: 0.6891 - loss: 1.1965 - val_accuracy: 0.9086 - val_loss: 1.3568\n",
      "Epoch 3/20\n",
      "\u001b[1m24/24\u001b[0m \u001b[32m━━━━━━━━━━━━━━━━━━━━\u001b[0m\u001b[37m\u001b[0m \u001b[1m1s\u001b[0m 45ms/step - accuracy: 0.9745 - loss: 0.3182 - val_accuracy: 0.9785 - val_loss: 1.0880\n",
      "Epoch 4/20\n",
      "\u001b[1m24/24\u001b[0m \u001b[32m━━━━━━━━━━━━━━━━━━━━\u001b[0m\u001b[37m\u001b[0m \u001b[1m1s\u001b[0m 45ms/step - accuracy: 1.0000 - loss: 0.1029 - val_accuracy: 0.9677 - val_loss: 0.6849\n",
      "Epoch 5/20\n",
      "\u001b[1m24/24\u001b[0m \u001b[32m━━━━━━━━━━━━━━━━━━━━\u001b[0m\u001b[37m\u001b[0m \u001b[1m1s\u001b[0m 44ms/step - accuracy: 0.9977 - loss: 0.0566 - val_accuracy: 0.9892 - val_loss: 0.8564\n",
      "Epoch 6/20\n",
      "\u001b[1m24/24\u001b[0m \u001b[32m━━━━━━━━━━━━━━━━━━━━\u001b[0m\u001b[37m\u001b[0m \u001b[1m1s\u001b[0m 45ms/step - accuracy: 1.0000 - loss: 0.0477 - val_accuracy: 0.9839 - val_loss: 0.6327\n",
      "Epoch 7/20\n",
      "\u001b[1m24/24\u001b[0m \u001b[32m━━━━━━━━━━━━━━━━━━━━\u001b[0m\u001b[37m\u001b[0m \u001b[1m1s\u001b[0m 44ms/step - accuracy: 1.0000 - loss: 0.0280 - val_accuracy: 0.9677 - val_loss: 0.3903\n",
      "Epoch 8/20\n",
      "\u001b[1m24/24\u001b[0m \u001b[32m━━━━━━━━━━━━━━━━━━━━\u001b[0m\u001b[37m\u001b[0m \u001b[1m1s\u001b[0m 44ms/step - accuracy: 1.0000 - loss: 0.0233 - val_accuracy: 0.9731 - val_loss: 0.2615\n",
      "Epoch 9/20\n",
      "\u001b[1m24/24\u001b[0m \u001b[32m━━━━━━━━━━━━━━━━━━━━\u001b[0m\u001b[37m\u001b[0m \u001b[1m1s\u001b[0m 45ms/step - accuracy: 0.9942 - loss: 0.0309 - val_accuracy: 0.9677 - val_loss: 0.2402\n",
      "Epoch 10/20\n",
      "\u001b[1m24/24\u001b[0m \u001b[32m━━━━━━━━━━━━━━━━━━━━\u001b[0m\u001b[37m\u001b[0m \u001b[1m1s\u001b[0m 45ms/step - accuracy: 1.0000 - loss: 0.0169 - val_accuracy: 0.9731 - val_loss: 0.1375\n",
      "Epoch 11/20\n",
      "\u001b[1m24/24\u001b[0m \u001b[32m━━━━━━━━━━━━━━━━━━━━\u001b[0m\u001b[37m\u001b[0m \u001b[1m1s\u001b[0m 45ms/step - accuracy: 1.0000 - loss: 0.0106 - val_accuracy: 0.9677 - val_loss: 0.1696\n",
      "Epoch 12/20\n",
      "\u001b[1m24/24\u001b[0m \u001b[32m━━━━━━━━━━━━━━━━━━━━\u001b[0m\u001b[37m\u001b[0m \u001b[1m1s\u001b[0m 45ms/step - accuracy: 0.9994 - loss: 0.0091 - val_accuracy: 0.9677 - val_loss: 0.1770\n",
      "Epoch 13/20\n",
      "\u001b[1m24/24\u001b[0m \u001b[32m━━━━━━━━━━━━━━━━━━━━\u001b[0m\u001b[37m\u001b[0m \u001b[1m1s\u001b[0m 46ms/step - accuracy: 1.0000 - loss: 0.0091 - val_accuracy: 0.9731 - val_loss: 0.1235\n",
      "Epoch 14/20\n",
      "\u001b[1m24/24\u001b[0m \u001b[32m━━━━━━━━━━━━━━━━━━━━\u001b[0m\u001b[37m\u001b[0m \u001b[1m1s\u001b[0m 45ms/step - accuracy: 1.0000 - loss: 0.0103 - val_accuracy: 0.9677 - val_loss: 0.1567\n",
      "Epoch 15/20\n",
      "\u001b[1m24/24\u001b[0m \u001b[32m━━━━━━━━━━━━━━━━━━━━\u001b[0m\u001b[37m\u001b[0m \u001b[1m1s\u001b[0m 46ms/step - accuracy: 1.0000 - loss: 0.0079 - val_accuracy: 0.9677 - val_loss: 0.2301\n",
      "Epoch 16/20\n",
      "\u001b[1m24/24\u001b[0m \u001b[32m━━━━━━━━━━━━━━━━━━━━\u001b[0m\u001b[37m\u001b[0m \u001b[1m1s\u001b[0m 45ms/step - accuracy: 1.0000 - loss: 0.0081 - val_accuracy: 0.9624 - val_loss: 0.2612\n",
      "Epoch 17/20\n",
      "\u001b[1m24/24\u001b[0m \u001b[32m━━━━━━━━━━━━━━━━━━━━\u001b[0m\u001b[37m\u001b[0m \u001b[1m1s\u001b[0m 45ms/step - accuracy: 1.0000 - loss: 0.0063 - val_accuracy: 0.9677 - val_loss: 0.2641\n",
      "Epoch 18/20\n",
      "\u001b[1m24/24\u001b[0m \u001b[32m━━━━━━━━━━━━━━━━━━━━\u001b[0m\u001b[37m\u001b[0m \u001b[1m1s\u001b[0m 46ms/step - accuracy: 1.0000 - loss: 0.0052 - val_accuracy: 0.9677 - val_loss: 0.2439\n",
      "Epoch 19/20\n",
      "\u001b[1m24/24\u001b[0m \u001b[32m━━━━━━━━━━━━━━━━━━━━\u001b[0m\u001b[37m\u001b[0m \u001b[1m1s\u001b[0m 46ms/step - accuracy: 1.0000 - loss: 0.0059 - val_accuracy: 0.9677 - val_loss: 0.2404\n",
      "Epoch 20/20\n",
      "\u001b[1m24/24\u001b[0m \u001b[32m━━━━━━━━━━━━━━━━━━━━\u001b[0m\u001b[37m\u001b[0m \u001b[1m1s\u001b[0m 45ms/step - accuracy: 1.0000 - loss: 0.0035 - val_accuracy: 0.9731 - val_loss: 0.2025\n"
     ]
    }
   ],
   "source": [
    "history = model.fit(\n",
    "    train_padded, \n",
    "    training_label_seq,\n",
    "    epochs=20,\n",
    "    batch_size=32,\n",
    "    validation_data=(validation_padded, validation_label_seq),\n",
    "    verbose=1\n",
    ")"
   ]
  },
  {
   "cell_type": "markdown",
   "id": "1f216a53",
   "metadata": {
    "papermill": {
     "duration": 0.020976,
     "end_time": "2025-08-28T05:11:37.426408",
     "exception": false,
     "start_time": "2025-08-28T05:11:37.405432",
     "status": "completed"
    },
    "tags": []
   },
   "source": [
    "### Training Performance"
   ]
  },
  {
   "cell_type": "code",
   "execution_count": 18,
   "id": "7867e759",
   "metadata": {
    "execution": {
     "iopub.execute_input": "2025-08-28T05:11:37.470160Z",
     "iopub.status.busy": "2025-08-28T05:11:37.469842Z",
     "iopub.status.idle": "2025-08-28T05:11:37.891421Z",
     "shell.execute_reply": "2025-08-28T05:11:37.890584Z"
    },
    "papermill": {
     "duration": 0.445522,
     "end_time": "2025-08-28T05:11:37.893145",
     "exception": false,
     "start_time": "2025-08-28T05:11:37.447623",
     "status": "completed"
    },
    "tags": []
   },
   "outputs": [
    {
     "data": {
      "image/png": "[encoded data removed]",
      "text/plain": [
       "<Figure size 1200x400 with 2 Axes>"
      ]
     },
     "metadata": {},
     "output_type": "display_data"
    }
   ],
   "source": [
    "# Plot training history\n",
    "import matplotlib.pyplot as plt\n",
    "\n",
    "plt.figure(figsize=(12, 4))\n",
    "\n",
    "plt.subplot(1, 2, 1)\n",
    "plt.plot(history.history['accuracy'], label='Training Accuracy')\n",
    "plt.plot(history.history['val_accuracy'], label='Validation Accuracy')\n",
    "plt.title('Model Accuracy')\n",
    "plt.xlabel('Epoch')\n",
    "plt.ylabel('Accuracy')\n",
    "plt.legend()\n",
    "\n",
    "plt.subplot(1, 2, 2)\n",
    "plt.plot(history.history['loss'], label='Training Loss')\n",
    "plt.plot(history.history['val_loss'], label='Validation Loss')\n",
    "plt.title('Model Loss')\n",
    "plt.xlabel('Epoch')\n",
    "plt.ylabel('Loss')\n",
    "plt.legend()\n",
    "\n",
    "# plt.tight_layout()\n",
    "plt.show()"
   ]
  },
  {
   "cell_type": "markdown",
   "id": "6c61feee",
   "metadata": {
    "papermill": {
     "duration": 0.022396,
     "end_time": "2025-08-28T05:11:37.938316",
     "exception": false,
     "start_time": "2025-08-28T05:11:37.915920",
     "status": "completed"
    },
    "tags": []
   },
   "source": [
    "### 1. LSTM Model"
   ]
  },
  {
   "cell_type": "code",
   "execution_count": 19,
   "id": "65305cb3",
   "metadata": {
    "execution": {
     "iopub.execute_input": "2025-08-28T05:11:37.985428Z",
     "iopub.status.busy": "2025-08-28T05:11:37.984580Z",
     "iopub.status.idle": "2025-08-28T05:11:38.036622Z",
     "shell.execute_reply": "2025-08-28T05:11:38.035940Z"
    },
    "papermill": {
     "duration": 0.077262,
     "end_time": "2025-08-28T05:11:38.038264",
     "exception": false,
     "start_time": "2025-08-28T05:11:37.961002",
     "status": "completed"
    },
    "tags": []
   },
   "outputs": [],
   "source": [
    "GRU_model = Sequential([\n",
    "    # Embedding layer\n",
    "    Embedding(input_dim=vocab_size, \n",
    "              output_dim=embedding_dim, \n",
    "              input_length=max_length),\n",
    "    \n",
    "    # Bidirectional GRU\n",
    "    Bidirectional(GRU(64, return_sequences=True)),\n",
    "    Dropout(0.5),\n",
    "    \n",
    "    Bidirectional(GRU(32)),\n",
    "    Dropout(0.5),\n",
    "    \n",
    "    Dense(64, activation='relu'),\n",
    "    # Dense(128, activation='selu', kernel_initializer='lecun_normal'),\n",
    "    Dropout(0.5),\n",
    "    \n",
    "    Dense(5, activation='softmax')\n",
    "])\n",
    "GRU_model.compile(\n",
    "    optimizer=Adam(learning_rate=0.0005),\n",
    "    loss='sparse_categorical_crossentropy',\n",
    "    metrics=['accuracy']\n",
    ")\n"
   ]
  },
  {
   "cell_type": "code",
   "execution_count": 20,
   "id": "bfe8dcb1",
   "metadata": {
    "execution": {
     "iopub.execute_input": "2025-08-28T05:11:38.086113Z",
     "iopub.status.busy": "2025-08-28T05:11:38.085306Z",
     "iopub.status.idle": "2025-08-28T05:11:38.295338Z",
     "shell.execute_reply": "2025-08-28T05:11:38.294509Z"
    },
    "papermill": {
     "duration": 0.235307,
     "end_time": "2025-08-28T05:11:38.296778",
     "exception": false,
     "start_time": "2025-08-28T05:11:38.061471",
     "status": "completed"
    },
    "tags": []
   },
   "outputs": [
    {
     "data": {
      "text/html": [
       "<pre style=\"white-space:pre;overflow-x:auto;line-height:normal;font-family:Menlo,'DejaVu Sans Mono',consolas,'Courier New',monospace\"><span style=\"font-weight: bold\">Model: \"sequential_1\"</span>\n",
       "</pre>\n"
      ],
      "text/plain": [
       "\u001b[1mModel: \"sequential_1\"\u001b[0m\n"
      ]
     },
     "metadata": {},
     "output_type": "display_data"
    },
    {
     "data": {
      "text/html": [
       "<pre style=\"white-space:pre;overflow-x:auto;line-height:normal;font-family:Menlo,'DejaVu Sans Mono',consolas,'Courier New',monospace\">┏━━━━━━━━━━━━━━━━━━━━━━━━━━━━━━━━━┳━━━━━━━━━━━━━━━━━━━━━━━━┳━━━━━━━━━━━━━━━┓\n",
       "┃<span style=\"font-weight: bold\"> Layer (type)                    </span>┃<span style=\"font-weight: bold\"> Output Shape           </span>┃<span style=\"font-weight: bold\">       Param # </span>┃\n",
       "┡━━━━━━━━━━━━━━━━━━━━━━━━━━━━━━━━━╇━━━━━━━━━━━━━━━━━━━━━━━━╇━━━━━━━━━━━━━━━┩\n",
       "│ embedding_1 (<span style=\"color: #0087ff; text-decoration-color: #0087ff\">Embedding</span>)         │ (<span style=\"color: #00d7ff; text-decoration-color: #00d7ff\">None</span>, <span style=\"color: #00af00; text-decoration-color: #00af00\">200</span>, <span style=\"color: #00af00; text-decoration-color: #00af00\">64</span>)        │       <span style=\"color: #00af00; text-decoration-color: #00af00\">320,000</span> │\n",
       "├─────────────────────────────────┼────────────────────────┼───────────────┤\n",
       "│ bidirectional_2 (<span style=\"color: #0087ff; text-decoration-color: #0087ff\">Bidirectional</span>) │ (<span style=\"color: #00d7ff; text-decoration-color: #00d7ff\">None</span>, <span style=\"color: #00af00; text-decoration-color: #00af00\">200</span>, <span style=\"color: #00af00; text-decoration-color: #00af00\">128</span>)       │        <span style=\"color: #00af00; text-decoration-color: #00af00\">49,920</span> │\n",
       "├─────────────────────────────────┼────────────────────────┼───────────────┤\n",
       "│ dropout_3 (<span style=\"color: #0087ff; text-decoration-color: #0087ff\">Dropout</span>)             │ (<span style=\"color: #00d7ff; text-decoration-color: #00d7ff\">None</span>, <span style=\"color: #00af00; text-decoration-color: #00af00\">200</span>, <span style=\"color: #00af00; text-decoration-color: #00af00\">128</span>)       │             <span style=\"color: #00af00; text-decoration-color: #00af00\">0</span> │\n",
       "├─────────────────────────────────┼────────────────────────┼───────────────┤\n",
       "│ bidirectional_3 (<span style=\"color: #0087ff; text-decoration-color: #0087ff\">Bidirectional</span>) │ (<span style=\"color: #00d7ff; text-decoration-color: #00d7ff\">None</span>, <span style=\"color: #00af00; text-decoration-color: #00af00\">64</span>)             │        <span style=\"color: #00af00; text-decoration-color: #00af00\">31,104</span> │\n",
       "├─────────────────────────────────┼────────────────────────┼───────────────┤\n",
       "│ dropout_4 (<span style=\"color: #0087ff; text-decoration-color: #0087ff\">Dropout</span>)             │ (<span style=\"color: #00d7ff; text-decoration-color: #00d7ff\">None</span>, <span style=\"color: #00af00; text-decoration-color: #00af00\">64</span>)             │             <span style=\"color: #00af00; text-decoration-color: #00af00\">0</span> │\n",
       "├─────────────────────────────────┼────────────────────────┼───────────────┤\n",
       "│ dense_2 (<span style=\"color: #0087ff; text-decoration-color: #0087ff\">Dense</span>)                 │ (<span style=\"color: #00d7ff; text-decoration-color: #00d7ff\">None</span>, <span style=\"color: #00af00; text-decoration-color: #00af00\">64</span>)             │         <span style=\"color: #00af00; text-decoration-color: #00af00\">4,160</span> │\n",
       "├─────────────────────────────────┼────────────────────────┼───────────────┤\n",
       "│ dropout_5 (<span style=\"color: #0087ff; text-decoration-color: #0087ff\">Dropout</span>)             │ (<span style=\"color: #00d7ff; text-decoration-color: #00d7ff\">None</span>, <span style=\"color: #00af00; text-decoration-color: #00af00\">64</span>)             │             <span style=\"color: #00af00; text-decoration-color: #00af00\">0</span> │\n",
       "├─────────────────────────────────┼────────────────────────┼───────────────┤\n",
       "│ dense_3 (<span style=\"color: #0087ff; text-decoration-color: #0087ff\">Dense</span>)                 │ (<span style=\"color: #00d7ff; text-decoration-color: #00d7ff\">None</span>, <span style=\"color: #00af00; text-decoration-color: #00af00\">5</span>)              │           <span style=\"color: #00af00; text-decoration-color: #00af00\">325</span> │\n",
       "└─────────────────────────────────┴────────────────────────┴───────────────┘\n",
       "</pre>\n"
      ],
      "text/plain": [
       "┏━━━━━━━━━━━━━━━━━━━━━━━━━━━━━━━━━┳━━━━━━━━━━━━━━━━━━━━━━━━┳━━━━━━━━━━━━━━━┓\n",
       "┃\u001b[1m \u001b[0m\u001b[1mLayer (type)                   \u001b[0m\u001b[1m \u001b[0m┃\u001b[1m \u001b[0m\u001b[1mOutput Shape          \u001b[0m\u001b[1m \u001b[0m┃\u001b[1m \u001b[0m\u001b[1m      Param #\u001b[0m\u001b[1m \u001b[0m┃\n",
       "┡━━━━━━━━━━━━━━━━━━━━━━━━━━━━━━━━━╇━━━━━━━━━━━━━━━━━━━━━━━━╇━━━━━━━━━━━━━━━┩\n",
       "│ embedding_1 (\u001b[38;5;33mEmbedding\u001b[0m)         │ (\u001b[38;5;45mNone\u001b[0m, \u001b[38;5;34m200\u001b[0m, \u001b[38;5;34m64\u001b[0m)        │       \u001b[38;5;34m320,000\u001b[0m │\n",
       "├─────────────────────────────────┼────────────────────────┼───────────────┤\n",
       "│ bidirectional_2 (\u001b[38;5;33mBidirectional\u001b[0m) │ (\u001b[38;5;45mNone\u001b[0m, \u001b[38;5;34m200\u001b[0m, \u001b[38;5;34m128\u001b[0m)       │        \u001b[38;5;34m49,920\u001b[0m │\n",
       "├─────────────────────────────────┼────────────────────────┼───────────────┤\n",
       "│ dropout_3 (\u001b[38;5;33mDropout\u001b[0m)             │ (\u001b[38;5;45mNone\u001b[0m, \u001b[38;5;34m200\u001b[0m, \u001b[38;5;34m128\u001b[0m)       │             \u001b[38;5;34m0\u001b[0m │\n",
       "├─────────────────────────────────┼────────────────────────┼───────────────┤\n",
       "│ bidirectional_3 (\u001b[38;5;33mBidirectional\u001b[0m) │ (\u001b[38;5;45mNone\u001b[0m, \u001b[38;5;34m64\u001b[0m)             │        \u001b[38;5;34m31,104\u001b[0m │\n",
       "├─────────────────────────────────┼────────────────────────┼───────────────┤\n",
       "│ dropout_4 (\u001b[38;5;33mDropout\u001b[0m)             │ (\u001b[38;5;45mNone\u001b[0m, \u001b[38;5;34m64\u001b[0m)             │             \u001b[38;5;34m0\u001b[0m │\n",
       "├─────────────────────────────────┼────────────────────────┼───────────────┤\n",
       "│ dense_2 (\u001b[38;5;33mDense\u001b[0m)                 │ (\u001b[38;5;45mNone\u001b[0m, \u001b[38;5;34m64\u001b[0m)             │         \u001b[38;5;34m4,160\u001b[0m │\n",
       "├─────────────────────────────────┼────────────────────────┼───────────────┤\n",
       "│ dropout_5 (\u001b[38;5;33mDropout\u001b[0m)             │ (\u001b[38;5;45mNone\u001b[0m, \u001b[38;5;34m64\u001b[0m)             │             \u001b[38;5;34m0\u001b[0m │\n",
       "├─────────────────────────────────┼────────────────────────┼───────────────┤\n",
       "│ dense_3 (\u001b[38;5;33mDense\u001b[0m)                 │ (\u001b[38;5;45mNone\u001b[0m, \u001b[38;5;34m5\u001b[0m)              │           \u001b[38;5;34m325\u001b[0m │\n",
       "└─────────────────────────────────┴────────────────────────┴───────────────┘\n"
      ]
     },
     "metadata": {},
     "output_type": "display_data"
    },
    {
     "data": {
      "text/html": [
       "<pre style=\"white-space:pre;overflow-x:auto;line-height:normal;font-family:Menlo,'DejaVu Sans Mono',consolas,'Courier New',monospace\"><span style=\"font-weight: bold\"> Total params: </span><span style=\"color: #00af00; text-decoration-color: #00af00\">405,509</span> (1.55 MB)\n",
       "</pre>\n"
      ],
      "text/plain": [
       "\u001b[1m Total params: \u001b[0m\u001b[38;5;34m405,509\u001b[0m (1.55 MB)\n"
      ]
     },
     "metadata": {},
     "output_type": "display_data"
    },
    {
     "data": {
      "text/html": [
       "<pre style=\"white-space:pre;overflow-x:auto;line-height:normal;font-family:Menlo,'DejaVu Sans Mono',consolas,'Courier New',monospace\"><span style=\"font-weight: bold\"> Trainable params: </span><span style=\"color: #00af00; text-decoration-color: #00af00\">405,509</span> (1.55 MB)\n",
       "</pre>\n"
      ],
      "text/plain": [
       "\u001b[1m Trainable params: \u001b[0m\u001b[38;5;34m405,509\u001b[0m (1.55 MB)\n"
      ]
     },
     "metadata": {},
     "output_type": "display_data"
    },
    {
     "data": {
      "text/html": [
       "<pre style=\"white-space:pre;overflow-x:auto;line-height:normal;font-family:Menlo,'DejaVu Sans Mono',consolas,'Courier New',monospace\"><span style=\"font-weight: bold\"> Non-trainable params: </span><span style=\"color: #00af00; text-decoration-color: #00af00\">0</span> (0.00 B)\n",
       "</pre>\n"
      ],
      "text/plain": [
       "\u001b[1m Non-trainable params: \u001b[0m\u001b[38;5;34m0\u001b[0m (0.00 B)\n"
      ]
     },
     "metadata": {},
     "output_type": "display_data"
    }
   ],
   "source": [
    "GRU_model.build(input_shape=(None, max_length))\n",
    "GRU_model.summary()"
   ]
  },
  {
   "cell_type": "markdown",
   "id": "91caba31",
   "metadata": {
    "papermill": {
     "duration": 0.022919,
     "end_time": "2025-08-28T05:11:38.343141",
     "exception": false,
     "start_time": "2025-08-28T05:11:38.320222",
     "status": "completed"
    },
    "tags": []
   },
   "source": [
    "### Model Training"
   ]
  },
  {
   "cell_type": "code",
   "execution_count": 21,
   "id": "65691778",
   "metadata": {
    "execution": {
     "iopub.execute_input": "2025-08-28T05:11:38.391332Z",
     "iopub.status.busy": "2025-08-28T05:11:38.390587Z",
     "iopub.status.idle": "2025-08-28T05:12:06.947944Z",
     "shell.execute_reply": "2025-08-28T05:12:06.947220Z"
    },
    "papermill": {
     "duration": 28.583162,
     "end_time": "2025-08-28T05:12:06.949632",
     "exception": false,
     "start_time": "2025-08-28T05:11:38.366470",
     "status": "completed"
    },
    "tags": []
   },
   "outputs": [
    {
     "name": "stdout",
     "output_type": "stream",
     "text": [
      "Epoch 1/20\n",
      "\u001b[1m24/24\u001b[0m \u001b[32m━━━━━━━━━━━━━━━━━━━━\u001b[0m\u001b[37m\u001b[0m \u001b[1m8s\u001b[0m 77ms/step - accuracy: 0.4202 - loss: 1.5514 - val_accuracy: 0.5484 - val_loss: 1.2275\n",
      "Epoch 2/20\n",
      "\u001b[1m24/24\u001b[0m \u001b[32m━━━━━━━━━━━━━━━━━━━━\u001b[0m\u001b[37m\u001b[0m \u001b[1m1s\u001b[0m 44ms/step - accuracy: 0.5691 - loss: 1.0901 - val_accuracy: 0.5484 - val_loss: 0.6856\n",
      "Epoch 3/20\n",
      "\u001b[1m24/24\u001b[0m \u001b[32m━━━━━━━━━━━━━━━━━━━━\u001b[0m\u001b[37m\u001b[0m \u001b[1m1s\u001b[0m 44ms/step - accuracy: 0.5485 - loss: 0.7878 - val_accuracy: 0.6720 - val_loss: 0.6965\n",
      "Epoch 4/20\n",
      "\u001b[1m24/24\u001b[0m \u001b[32m━━━━━━━━━━━━━━━━━━━━\u001b[0m\u001b[37m\u001b[0m \u001b[1m1s\u001b[0m 44ms/step - accuracy: 0.5170 - loss: 0.7807 - val_accuracy: 0.6720 - val_loss: 0.6647\n",
      "Epoch 5/20\n",
      "\u001b[1m24/24\u001b[0m \u001b[32m━━━━━━━━━━━━━━━━━━━━\u001b[0m\u001b[37m\u001b[0m \u001b[1m1s\u001b[0m 44ms/step - accuracy: 0.6121 - loss: 0.7073 - val_accuracy: 0.8656 - val_loss: 0.6155\n",
      "Epoch 6/20\n",
      "\u001b[1m24/24\u001b[0m \u001b[32m━━━━━━━━━━━━━━━━━━━━\u001b[0m\u001b[37m\u001b[0m \u001b[1m1s\u001b[0m 44ms/step - accuracy: 0.6235 - loss: 0.6713 - val_accuracy: 0.8925 - val_loss: 0.4663\n",
      "Epoch 7/20\n",
      "\u001b[1m24/24\u001b[0m \u001b[32m━━━━━━━━━━━━━━━━━━━━\u001b[0m\u001b[37m\u001b[0m \u001b[1m1s\u001b[0m 44ms/step - accuracy: 0.8874 - loss: 0.3937 - val_accuracy: 0.9785 - val_loss: 0.0806\n",
      "Epoch 8/20\n",
      "\u001b[1m24/24\u001b[0m \u001b[32m━━━━━━━━━━━━━━━━━━━━\u001b[0m\u001b[37m\u001b[0m \u001b[1m1s\u001b[0m 44ms/step - accuracy: 0.9978 - loss: 0.0559 - val_accuracy: 0.9839 - val_loss: 0.0712\n",
      "Epoch 9/20\n",
      "\u001b[1m24/24\u001b[0m \u001b[32m━━━━━━━━━━━━━━━━━━━━\u001b[0m\u001b[37m\u001b[0m \u001b[1m1s\u001b[0m 45ms/step - accuracy: 0.9983 - loss: 0.0309 - val_accuracy: 0.9785 - val_loss: 0.0568\n",
      "Epoch 10/20\n",
      "\u001b[1m24/24\u001b[0m \u001b[32m━━━━━━━━━━━━━━━━━━━━\u001b[0m\u001b[37m\u001b[0m \u001b[1m1s\u001b[0m 44ms/step - accuracy: 1.0000 - loss: 0.0188 - val_accuracy: 0.9892 - val_loss: 0.0362\n",
      "Epoch 11/20\n",
      "\u001b[1m24/24\u001b[0m \u001b[32m━━━━━━━━━━━━━━━━━━━━\u001b[0m\u001b[37m\u001b[0m \u001b[1m1s\u001b[0m 44ms/step - accuracy: 1.0000 - loss: 0.0101 - val_accuracy: 0.9892 - val_loss: 0.0292\n",
      "Epoch 12/20\n",
      "\u001b[1m24/24\u001b[0m \u001b[32m━━━━━━━━━━━━━━━━━━━━\u001b[0m\u001b[37m\u001b[0m \u001b[1m1s\u001b[0m 44ms/step - accuracy: 0.9995 - loss: 0.0075 - val_accuracy: 0.9946 - val_loss: 0.0216\n",
      "Epoch 13/20\n",
      "\u001b[1m24/24\u001b[0m \u001b[32m━━━━━━━━━━━━━━━━━━━━\u001b[0m\u001b[37m\u001b[0m \u001b[1m1s\u001b[0m 44ms/step - accuracy: 1.0000 - loss: 0.0059 - val_accuracy: 0.9946 - val_loss: 0.0230\n",
      "Epoch 14/20\n",
      "\u001b[1m24/24\u001b[0m \u001b[32m━━━━━━━━━━━━━━━━━━━━\u001b[0m\u001b[37m\u001b[0m \u001b[1m1s\u001b[0m 44ms/step - accuracy: 1.0000 - loss: 0.0049 - val_accuracy: 0.9946 - val_loss: 0.0267\n",
      "Epoch 15/20\n",
      "\u001b[1m24/24\u001b[0m \u001b[32m━━━━━━━━━━━━━━━━━━━━\u001b[0m\u001b[37m\u001b[0m \u001b[1m1s\u001b[0m 44ms/step - accuracy: 1.0000 - loss: 0.0028 - val_accuracy: 0.9892 - val_loss: 0.0356\n",
      "Epoch 16/20\n",
      "\u001b[1m24/24\u001b[0m \u001b[32m━━━━━━━━━━━━━━━━━━━━\u001b[0m\u001b[37m\u001b[0m \u001b[1m1s\u001b[0m 44ms/step - accuracy: 1.0000 - loss: 0.0030 - val_accuracy: 0.9839 - val_loss: 0.0479\n",
      "Epoch 17/20\n",
      "\u001b[1m24/24\u001b[0m \u001b[32m━━━━━━━━━━━━━━━━━━━━\u001b[0m\u001b[37m\u001b[0m \u001b[1m1s\u001b[0m 44ms/step - accuracy: 1.0000 - loss: 0.0026 - val_accuracy: 0.9839 - val_loss: 0.0629\n",
      "Epoch 18/20\n",
      "\u001b[1m24/24\u001b[0m \u001b[32m━━━━━━━━━━━━━━━━━━━━\u001b[0m\u001b[37m\u001b[0m \u001b[1m1s\u001b[0m 45ms/step - accuracy: 1.0000 - loss: 0.0022 - val_accuracy: 0.9839 - val_loss: 0.0838\n",
      "Epoch 19/20\n",
      "\u001b[1m24/24\u001b[0m \u001b[32m━━━━━━━━━━━━━━━━━━━━\u001b[0m\u001b[37m\u001b[0m \u001b[1m1s\u001b[0m 44ms/step - accuracy: 0.9971 - loss: 0.0048 - val_accuracy: 0.9839 - val_loss: 0.1036\n",
      "Epoch 20/20\n",
      "\u001b[1m24/24\u001b[0m \u001b[32m━━━━━━━━━━━━━━━━━━━━\u001b[0m\u001b[37m\u001b[0m \u001b[1m1s\u001b[0m 44ms/step - accuracy: 1.0000 - loss: 0.0027 - val_accuracy: 0.9839 - val_loss: 0.1150\n"
     ]
    }
   ],
   "source": [
    "GRU_history = GRU_model.fit(\n",
    "    train_padded, \n",
    "    training_label_seq,\n",
    "    epochs=20,\n",
    "    batch_size=32,\n",
    "    validation_data=(validation_padded, validation_label_seq),\n",
    "    verbose=1\n",
    ")"
   ]
  },
  {
   "cell_type": "markdown",
   "id": "bc4ce93c",
   "metadata": {
    "papermill": {
     "duration": 0.036618,
     "end_time": "2025-08-28T05:12:07.024519",
     "exception": false,
     "start_time": "2025-08-28T05:12:06.987901",
     "status": "completed"
    },
    "tags": []
   },
   "source": [
    "### Training Performance"
   ]
  },
  {
   "cell_type": "code",
   "execution_count": 22,
   "id": "dcaa50e9",
   "metadata": {
    "execution": {
     "iopub.execute_input": "2025-08-28T05:12:07.098974Z",
     "iopub.status.busy": "2025-08-28T05:12:07.098609Z",
     "iopub.status.idle": "2025-08-28T05:12:07.509124Z",
     "shell.execute_reply": "2025-08-28T05:12:07.508201Z"
    },
    "papermill": {
     "duration": 0.449754,
     "end_time": "2025-08-28T05:12:07.510669",
     "exception": false,
     "start_time": "2025-08-28T05:12:07.060915",
     "status": "completed"
    },
    "tags": []
   },
   "outputs": [
    {
     "data": {
      "image/png": "[encoded data removed]",
      "text/plain": [
       "<Figure size 1200x400 with 2 Axes>"
      ]
     },
     "metadata": {},
     "output_type": "display_data"
    }
   ],
   "source": [
    "plt.figure(figsize=(12, 4))\n",
    "\n",
    "plt.subplot(1, 2, 1)\n",
    "plt.plot(GRU_history.history['accuracy'], label='Training Accuracy')\n",
    "plt.plot(GRU_history.history['val_accuracy'], label='Validation Accuracy')\n",
    "plt.title('Model Accuracy')\n",
    "plt.xlabel('Epoch')\n",
    "plt.ylabel('Accuracy')\n",
    "plt.legend()\n",
    "\n",
    "plt.subplot(1, 2, 2)\n",
    "plt.plot(history.history['loss'], label='Training Loss')\n",
    "plt.plot(history.history['val_loss'], label='Validation Loss')\n",
    "plt.title('Model Loss')\n",
    "plt.xlabel('Epoch')\n",
    "plt.ylabel('Loss')\n",
    "plt.legend()\n",
    "\n",
    "# plt.tight_layout()\n",
    "plt.show()"
   ]
  },
  {
   "cell_type": "markdown",
   "id": "a314b319",
   "metadata": {
    "papermill": {
     "duration": 0.037907,
     "end_time": "2025-08-28T05:12:07.587597",
     "exception": false,
     "start_time": "2025-08-28T05:12:07.549690",
     "status": "completed"
    },
    "tags": []
   },
   "source": [
    "##  Results"
   ]
  },
  {
   "cell_type": "markdown",
   "id": "27d8a04d",
   "metadata": {
    "papermill": {
     "duration": 0.037854,
     "end_time": "2025-08-28T05:12:07.663109",
     "exception": false,
     "start_time": "2025-08-28T05:12:07.625255",
     "status": "completed"
    },
    "tags": []
   },
   "source": [
    "### 1. Final Model Comparison"
   ]
  },
  {
   "cell_type": "code",
   "execution_count": 23,
   "id": "82e37e82",
   "metadata": {
    "execution": {
     "iopub.execute_input": "2025-08-28T05:12:07.740675Z",
     "iopub.status.busy": "2025-08-28T05:12:07.740346Z",
     "iopub.status.idle": "2025-08-28T05:12:07.950606Z",
     "shell.execute_reply": "2025-08-28T05:12:07.949657Z"
    },
    "papermill": {
     "duration": 0.250618,
     "end_time": "2025-08-28T05:12:07.952064",
     "exception": false,
     "start_time": "2025-08-28T05:12:07.701446",
     "status": "completed"
    },
    "tags": []
   },
   "outputs": [
    {
     "data": {
      "image/png": "[encoded data removed]",
      "text/plain": [
       "<Figure size 1000x600 with 1 Axes>"
      ]
     },
     "metadata": {},
     "output_type": "display_data"
    }
   ],
   "source": [
    "final_accs = {\n",
    "    'LSTM Train': history.history['accuracy'][-1],\n",
    "    'LSTM Val': history.history['val_accuracy'][-1],\n",
    "    'GRU Train': GRU_history.history['accuracy'][-1],\n",
    "    'GRU Val': GRU_history.history['val_accuracy'][-1]\n",
    "}\n",
    "\n",
    "# Plot setup\n",
    "plt.figure(figsize=(10, 6))\n",
    "plt.title('LSTM vs GRU Model - Final Accuracy Comparison', fontsize=16,pad=25)\n",
    "\n",
    "# Bar chart\n",
    "bars = plt.bar(final_accs.keys(), final_accs.values(), \n",
    "               color=['blue', 'skyblue', 'green', 'lightgreen'])\n",
    "plt.ylabel('Accuracy')\n",
    "plt.ylim(0, 1)\n",
    "\n",
    "# Add value labels on bars\n",
    "for bar in bars:\n",
    "    height = bar.get_height()\n",
    "    plt.text(bar.get_x() + bar.get_width()/2.0, height + 0.02, \n",
    "             f'{height:.3f}', ha='center', va='bottom', fontsize=10)\n",
    "\n",
    "plt.tight_layout()\n",
    "plt.show()\n"
   ]
  },
  {
   "cell_type": "code",
   "execution_count": 24,
   "id": "1dc43c79",
   "metadata": {
    "execution": {
     "iopub.execute_input": "2025-08-28T05:12:08.029247Z",
     "iopub.status.busy": "2025-08-28T05:12:08.028924Z",
     "iopub.status.idle": "2025-08-28T05:12:10.704770Z",
     "shell.execute_reply": "2025-08-28T05:12:10.703674Z"
    },
    "papermill": {
     "duration": 2.716441,
     "end_time": "2025-08-28T05:12:10.706478",
     "exception": false,
     "start_time": "2025-08-28T05:12:07.990037",
     "status": "completed"
    },
    "tags": []
   },
   "outputs": [
    {
     "name": "stdout",
     "output_type": "stream",
     "text": [
      "\u001b[1m6/6\u001b[0m \u001b[32m━━━━━━━━━━━━━━━━━━━━\u001b[0m\u001b[37m\u001b[0m \u001b[1m1s\u001b[0m 145ms/step\n",
      "\u001b[1m6/6\u001b[0m \u001b[32m━━━━━━━━━━━━━━━━━━━━\u001b[0m\u001b[37m\u001b[0m \u001b[1m1s\u001b[0m 127ms/step\n"
     ]
    }
   ],
   "source": [
    "lstm_pred = model.predict(validation_padded)\n",
    "gru_pred = GRU_model.predict(validation_padded)\n",
    "\n",
    "lstm_pred_classes = np.argmax(lstm_pred, axis=1)\n",
    "gru_pred_classes = np.argmax(gru_pred, axis=1)"
   ]
  },
  {
   "cell_type": "markdown",
   "id": "341c6fb0",
   "metadata": {
    "papermill": {
     "duration": 0.038605,
     "end_time": "2025-08-28T05:12:10.784599",
     "exception": false,
     "start_time": "2025-08-28T05:12:10.745994",
     "status": "completed"
    },
    "tags": []
   },
   "source": [
    "### 2. confusion matrix"
   ]
  },
  {
   "cell_type": "code",
   "execution_count": 25,
   "id": "e4339b96",
   "metadata": {
    "execution": {
     "iopub.execute_input": "2025-08-28T05:12:10.863918Z",
     "iopub.status.busy": "2025-08-28T05:12:10.863259Z",
     "iopub.status.idle": "2025-08-28T05:12:11.348939Z",
     "shell.execute_reply": "2025-08-28T05:12:11.347916Z"
    },
    "papermill": {
     "duration": 0.526368,
     "end_time": "2025-08-28T05:12:11.350400",
     "exception": false,
     "start_time": "2025-08-28T05:12:10.824032",
     "status": "completed"
    },
    "tags": []
   },
   "outputs": [
    {
     "data": {
      "image/png": "[encoded data removed]",
      "text/plain": [
       "<Figure size 1500x600 with 4 Axes>"
      ]
     },
     "metadata": {},
     "output_type": "display_data"
    }
   ],
   "source": [
    "fig, axes = plt.subplots(1, 2, figsize=(15, 6))\n",
    "\n",
    "# LSTM Confusion Matrix\n",
    "cm_lstm = confusion_matrix(validation_label_seq, lstm_pred_classes)\n",
    "sns.heatmap(cm_lstm, annot=True, fmt='d', cmap='Blues', \n",
    "            xticklabels=label_encoder.classes_,\n",
    "            yticklabels=label_encoder.classes_, ax=axes[0])\n",
    "axes[0].set_title('LSTM Confusion Matrix')\n",
    "axes[0].set_ylabel('True Label')\n",
    "axes[0].set_xlabel('Predicted Label')\n",
    "\n",
    "# GRU Confusion Matrix\n",
    "cm_gru = confusion_matrix(validation_label_seq, gru_pred_classes)\n",
    "sns.heatmap(cm_gru, annot=True, fmt='d', cmap='Greens',\n",
    "            xticklabels=label_encoder.classes_,\n",
    "            yticklabels=label_encoder.classes_, ax=axes[1])\n",
    "axes[1].set_title('GRU Confusion Matrix')\n",
    "axes[1].set_ylabel('True Label')\n",
    "axes[1].set_xlabel('Predicted Label')\n",
    "\n",
    "plt.tight_layout()\n",
    "plt.show()"
   ]
  },
  {
   "cell_type": "markdown",
   "id": "6690a61c",
   "metadata": {
    "papermill": {
     "duration": 0.038968,
     "end_time": "2025-08-28T05:12:11.429151",
     "exception": false,
     "start_time": "2025-08-28T05:12:11.390183",
     "status": "completed"
    },
    "tags": []
   },
   "source": [
    "### 3. Classification report"
   ]
  },
  {
   "cell_type": "code",
   "execution_count": 26,
   "id": "cb73272c",
   "metadata": {
    "execution": {
     "iopub.execute_input": "2025-08-28T05:12:11.509176Z",
     "iopub.status.busy": "2025-08-28T05:12:11.508558Z",
     "iopub.status.idle": "2025-08-28T05:12:11.527731Z",
     "shell.execute_reply": "2025-08-28T05:12:11.526885Z"
    },
    "papermill": {
     "duration": 0.061047,
     "end_time": "2025-08-28T05:12:11.529313",
     "exception": false,
     "start_time": "2025-08-28T05:12:11.468266",
     "status": "completed"
    },
    "tags": []
   },
   "outputs": [
    {
     "name": "stdout",
     "output_type": "stream",
     "text": [
      "============================================================\n",
      "LSTM CLASSIFICATION REPORT\n",
      "============================================================\n",
      "              precision    recall  f1-score   support\n",
      "\n",
      "    politics       1.00      0.94      0.97        84\n",
      "       sport       0.95      1.00      0.98       102\n",
      "\n",
      "    accuracy                           0.97       186\n",
      "   macro avg       0.98      0.97      0.97       186\n",
      "weighted avg       0.97      0.97      0.97       186\n",
      "\n",
      "\n",
      "============================================================\n",
      "GRU CLASSIFICATION REPORT\n",
      "============================================================\n",
      "              precision    recall  f1-score   support\n",
      "\n",
      "    politics       0.98      0.99      0.98        84\n",
      "       sport       0.99      0.98      0.99       102\n",
      "\n",
      "    accuracy                           0.98       186\n",
      "   macro avg       0.98      0.98      0.98       186\n",
      "weighted avg       0.98      0.98      0.98       186\n",
      "\n"
     ]
    }
   ],
   "source": [
    "print(\"=\" * 60)\n",
    "print(\"LSTM CLASSIFICATION REPORT\")\n",
    "print(\"=\" * 60)\n",
    "print(classification_report(validation_label_seq, lstm_pred_classes, \n",
    "                          target_names=label_encoder.classes_))\n",
    "\n",
    "print(\"\\n\" + \"=\" * 60)\n",
    "print(\"GRU CLASSIFICATION REPORT\")\n",
    "print(\"=\" * 60)\n",
    "print(classification_report(validation_label_seq, gru_pred_classes,\n",
    "                          target_names=label_encoder.classes_))"
   ]
  },
  {
   "cell_type": "markdown",
   "id": "e2786b4e",
   "metadata": {
    "papermill": {
     "duration": 0.039826,
     "end_time": "2025-08-28T05:12:11.609777",
     "exception": false,
     "start_time": "2025-08-28T05:12:11.569951",
     "status": "completed"
    },
    "tags": []
   },
   "source": [
    "### 4. Per-Class Performance (Best Model)"
   ]
  },
  {
   "cell_type": "code",
   "execution_count": 27,
   "id": "0cb0c24f",
   "metadata": {
    "execution": {
     "iopub.execute_input": "2025-08-28T05:12:11.691329Z",
     "iopub.status.busy": "2025-08-28T05:12:11.690535Z",
     "iopub.status.idle": "2025-08-28T05:12:12.238361Z",
     "shell.execute_reply": "2025-08-28T05:12:12.237504Z"
    },
    "papermill": {
     "duration": 0.591009,
     "end_time": "2025-08-28T05:12:12.240655",
     "exception": false,
     "start_time": "2025-08-28T05:12:11.649646",
     "status": "completed"
    },
    "tags": []
   },
   "outputs": [
    {
     "data": {
      "image/png": "[encoded data removed]",
      "text/plain": [
       "<Figure size 1800x500 with 3 Axes>"
      ]
     },
     "metadata": {},
     "output_type": "display_data"
    },
    {
     "name": "stdout",
     "output_type": "stream",
     "text": [
      "\n",
      "Per-Class Metrics Comparison:\n",
      "      Class  LSTM_Precision  GRU_Precision  LSTM_Recall  GRU_Recall  LSTM_F1  \\\n",
      "0  politics           1.000          0.976         0.94       0.988    0.969   \n",
      "1     sport           0.953          0.990         1.00       0.980    0.976   \n",
      "\n",
      "   GRU_F1  \n",
      "0   0.982  \n",
      "1   0.985  \n"
     ]
    }
   ],
   "source": [
    "from sklearn.metrics import precision_recall_fscore_support\n",
    "\n",
    "# Calculate metrics for each class\n",
    "lstm_metrics = precision_recall_fscore_support(validation_label_seq, lstm_pred_classes, average=None)\n",
    "gru_metrics = precision_recall_fscore_support(validation_label_seq, gru_pred_classes, average=None)\n",
    "\n",
    "# Create comparison dataframe\n",
    "metrics_df = pd.DataFrame({\n",
    "    'Class': label_encoder.classes_,\n",
    "    'LSTM_Precision': lstm_metrics[0],\n",
    "    'GRU_Precision': gru_metrics[0],\n",
    "    'LSTM_Recall': lstm_metrics[1],\n",
    "    'GRU_Recall': gru_metrics[1],\n",
    "    'LSTM_F1': lstm_metrics[2],\n",
    "    'GRU_F1': gru_metrics[2]\n",
    "})\n",
    "\n",
    "# Visualize\n",
    "fig, axes = plt.subplots(1, 3, figsize=(18, 5))\n",
    "\n",
    "# Precision comparison\n",
    "x = np.arange(len(label_encoder.classes_))\n",
    "width = 0.35\n",
    "\n",
    "axes[0].bar(x - width/2, metrics_df['LSTM_Precision'], width, label='LSTM', color='blue')\n",
    "axes[0].bar(x + width/2, metrics_df['GRU_Precision'], width, label='GRU', color='green')\n",
    "axes[0].set_xlabel('Classes')\n",
    "axes[0].set_ylabel('Precision')\n",
    "axes[0].set_title('Precision by Class')\n",
    "axes[0].set_xticks(x)\n",
    "axes[0].set_xticklabels(label_encoder.classes_, rotation=45)\n",
    "axes[0].legend()\n",
    "\n",
    "# Recall comparison\n",
    "axes[1].bar(x - width/2, metrics_df['LSTM_Recall'], width, label='LSTM', color='blue')\n",
    "axes[1].bar(x + width/2, metrics_df['GRU_Recall'], width, label='GRU', color='green')\n",
    "axes[1].set_xlabel('Classes')\n",
    "axes[1].set_ylabel('Recall')\n",
    "axes[1].set_title('Recall by Class')\n",
    "axes[1].set_xticks(x)\n",
    "axes[1].set_xticklabels(label_encoder.classes_, rotation=45)\n",
    "axes[1].legend()\n",
    "\n",
    "# F1-score comparison\n",
    "axes[2].bar(x - width/2, metrics_df['LSTM_F1'], width, label='LSTM', color='blue')\n",
    "axes[2].bar(x + width/2, metrics_df['GRU_F1'], width, label='GRU', color='green')\n",
    "axes[2].set_xlabel('Classes')\n",
    "axes[2].set_ylabel('F1-Score')\n",
    "axes[2].set_title('F1-Score by Class')\n",
    "axes[2].set_xticks(x)\n",
    "axes[2].set_xticklabels(label_encoder.classes_, rotation=45)\n",
    "axes[2].legend()\n",
    "\n",
    "plt.tight_layout()\n",
    "plt.show()\n",
    "\n",
    "print(\"\\nPer-Class Metrics Comparison:\")\n",
    "print(metrics_df.round(3))"
   ]
  },
  {
   "cell_type": "markdown",
   "id": "8033d7ce",
   "metadata": {
    "papermill": {
     "duration": 0.041278,
     "end_time": "2025-08-28T05:12:12.325795",
     "exception": false,
     "start_time": "2025-08-28T05:12:12.284517",
     "status": "completed"
    },
    "tags": []
   },
   "source": [
    "### 5. Errors"
   ]
  },
  {
   "cell_type": "code",
   "execution_count": 28,
   "id": "7d4b58b8",
   "metadata": {
    "execution": {
     "iopub.execute_input": "2025-08-28T05:12:12.406432Z",
     "iopub.status.busy": "2025-08-28T05:12:12.405592Z",
     "iopub.status.idle": "2025-08-28T05:12:12.411928Z",
     "shell.execute_reply": "2025-08-28T05:12:12.411119Z"
    },
    "papermill": {
     "duration": 0.048812,
     "end_time": "2025-08-28T05:12:12.413567",
     "exception": false,
     "start_time": "2025-08-28T05:12:12.364755",
     "status": "completed"
    },
    "tags": []
   },
   "outputs": [
    {
     "name": "stdout",
     "output_type": "stream",
     "text": [
      "LSTM errors: 5 (2.7%)\n",
      "GRU errors: 3 (1.6%)\n",
      "LSTM failed but GRU succeeded: 4\n",
      "GRU failed but LSTM succeeded: 2\n",
      "Both models failed: 1\n"
     ]
    }
   ],
   "source": [
    "# Find misclassified examples\n",
    "lstm_errors = validation_label_seq != lstm_pred_classes\n",
    "gru_errors = validation_label_seq != gru_pred_classes\n",
    "\n",
    "# Samples where LSTM failed but GRU succeeded\n",
    "lstm_fail_gru_success = lstm_errors & ~gru_errors\n",
    "gru_fail_lstm_success = gru_errors & ~lstm_errors\n",
    "both_fail = lstm_errors & gru_errors\n",
    "\n",
    "print(f\"LSTM errors: {np.sum(lstm_errors)} ({np.sum(lstm_errors)/len(validation_label_seq)*100:.1f}%)\")\n",
    "print(f\"GRU errors: {np.sum(gru_errors)} ({np.sum(gru_errors)/len(validation_label_seq)*100:.1f}%)\")\n",
    "print(f\"LSTM failed but GRU succeeded: {np.sum(lstm_fail_gru_success)}\")\n",
    "print(f\"GRU failed but LSTM succeeded: {np.sum(gru_fail_lstm_success)}\")\n",
    "print(f\"Both models failed: {np.sum(both_fail)}\")"
   ]
  }
 ],
 "metadata": {
  "kaggle": {
   "accelerator": "gpu",
   "dataSources": [
    {
     "datasetId": 8156902,
     "sourceId": 12892380,
     "sourceType": "datasetVersion"
    }
   ],
   "dockerImageVersionId": 31090,
   "isGpuEnabled": true,
   "isInternetEnabled": true,
   "language": "python",
   "sourceType": "notebook"
  },
  "kernelspec": {
   "display_name": "Python 3",
   "language": "python",
   "name": "python3"
  },
  "language_info": {
   "codemirror_mode": {
    "name": "ipython",
    "version": 3
   },
   "file_extension": ".py",
   "mimetype": "text/x-python",
   "name": "python",
   "nbconvert_exporter": "python",
   "pygments_lexer": "ipython3",
   "version": "3.11.13"
  },
  "papermill": {
   "default_parameters": {},
   "duration": 96.370902,
   "end_time": "2025-08-28T05:12:15.563658",
   "environment_variables": {},
   "exception": null,
   "input_path": "__notebook__.ipynb",
   "output_path": "__notebook__.ipynb",
   "parameters": {},
   "start_time": "2025-08-28T05:10:39.192756",
   "version": "2.6.0"
  }
 },
 "nbformat": 4,
 "nbformat_minor": 5
}
